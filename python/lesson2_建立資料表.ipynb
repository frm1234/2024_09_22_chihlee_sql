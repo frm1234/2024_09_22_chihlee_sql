{
 "cells": [
  {
   "cell_type": "code",
   "execution_count": null,
   "metadata": {},
   "outputs": [
    {
     "name": "stdout",
     "output_type": "stream",
     "text": [
      "連線\n"
     ]
    }
   ],
   "source": [
    "import psycopg2\n",
    "import os\n",
    "\n",
    "\n",
    "with psycopg2.connect(host=\"dpg-csabsbi3esus739rc2m0-a.singapore-postgres.render.com\",database='render992',user=\"render992_user\",password='C3Cwqsvu4r5TnMUOqa3CqDY5f03efO0T') as conn:\n",
    "   print(\"連線\")"
   ]
  },
  {
   "cell_type": "code",
   "execution_count": 2,
   "metadata": {},
   "outputs": [],
   "source": [
    "#create_table\n",
    "import psycopg2\n",
    "import os\n",
    "conn = psycopg2.connect(host=\"dpg-csabsbi3esus739rc2m0-a.singapore-postgres.render.com\",database='render992',user=\"render992_user\",password='C3Cwqsvu4r5TnMUOqa3CqDY5f03efO0T')\n",
    "\n",
    "#參考文件\n",
    "#https://www.psycopg.org/docs/usage.html#transactions-control\n",
    "\n",
    "with conn: #如果沒有raise exception 就自動執行commit, 沒有就自動執行rollback\n",
    "    with conn.cursor() as cursor: #自動關閉cursor\n",
    "      #建立市場資料表\n",
    "        sql = '''\n",
    "            CREATE TABLE IF NOT EXISTS 市場(\n",
    "            name VARCHAR(20),\n",
    "            country VARCHAR(20),\n",
    "            PRIMARY KEY(name)\n",
    "            );\n",
    "        '''\n",
    "        cursor.execute(sql)\n",
    "    \n",
    "    with conn.cursor() as cursor:#自動關閉cursor\n",
    "        #建立股市資料表\n",
    "        sql = '''\n",
    "            CREATE TABLE IF NOT EXISTS 股市(\n",
    "            stock_id SERIAL,\n",
    "            date DATE,\n",
    "            open NUMERIC(17,10),\n",
    "            high NUMERIC(17,10),\n",
    "            low NUMERIC(17,10),\n",
    "            close NUMERIC(17,10),\n",
    "            adj_close NUMERIC(17,10),\n",
    "            volume BIGINT DEFAULT 0,\n",
    "            name VARCHAR(20),\n",
    "            PRIMARY KEY(stock_id),\n",
    "            FOREIGN KEY(name) REFERENCES 市場(name) \n",
    "            ON DELETE NO ACTION\n",
    "            ON UPDATE CASCADE\n",
    "            );\n",
    "        '''\n",
    "        cursor.execute(sql) \n",
    "\n",
    "#conn.close()\n"
   ]
  },
  {
   "cell_type": "code",
   "execution_count": 1,
   "metadata": {},
   "outputs": [],
   "source": [
    "import psycopg2\n",
    "\n",
    "conn = psycopg2.connect(host=\"dpg-csabsbi3esus739rc2m0-a.singapore-postgres.render.com\",database='render992',user=\"render992_user\",password='C3Cwqsvu4r5TnMUOqa3CqDY5f03efO0T')\n",
    "\n",
    "with conn:\n",
    "    with conn.cursor() as cursor:\n",
    "        sql='''\n",
    "        INSERT INTO 市場 values (%s,%s)\n",
    "        ON CONFLICT DO NOTHING;\n",
    "        '''\n",
    "        cursor.execute(sql,['^TWII','台灣'])\n"
   ]
  }
 ],
 "metadata": {
  "kernelspec": {
   "display_name": "myenv",
   "language": "python",
   "name": "python3"
  },
  "language_info": {
   "codemirror_mode": {
    "name": "ipython",
    "version": 3
   },
   "file_extension": ".py",
   "mimetype": "text/x-python",
   "name": "python",
   "nbconvert_exporter": "python",
   "pygments_lexer": "ipython3",
   "version": "3.10.15"
  }
 },
 "nbformat": 4,
 "nbformat_minor": 2
}
