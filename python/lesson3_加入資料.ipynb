{
 "cells": [
  {
   "cell_type": "code",
   "execution_count": 1,
   "metadata": {},
   "outputs": [],
   "source": [
    "import psycopg2\n",
    "\n",
    "conn = psycopg2.connect(host=\"dpg-csabsbi3esus739rc2m0-a.singapore-postgres.render.com\",database='render992',user=\"render992_user\",password='C3Cwqsvu4r5TnMUOqa3CqDY5f03efO0T')\n",
    "with conn:\n",
    "    with conn.cursor() as cursor:\n",
    "        sql='''\n",
    "        INSERT INTO 市場 values (%s,%s)\n",
    "        ON CONFLICT DO NOTHING;\n",
    "        '''\n",
    "        cursor.execute(sql,['^TWII','台灣'])\n",
    "conn.close()"
   ]
  },
  {
   "cell_type": "code",
   "execution_count": 2,
   "metadata": {},
   "outputs": [
    {
     "name": "stderr",
     "output_type": "stream",
     "text": [
      "[*********************100%***********************]  1 of 1 completed\n"
     ]
    }
   ],
   "source": [
    "import yfinance as yf\n",
    "taiwan = yf.download('^TWII')"
   ]
  },
  {
   "cell_type": "code",
   "execution_count": null,
   "metadata": {},
   "outputs": [],
   "source": [
    "all_data = taiwan.to_dict(orient='index')\n",
    "for key,value in all_data.items():\n",
    "    date = key.date()\n",
    "    name = '^TWII'\n",
    "    print(date)\n",
    "    adj_close = value[('Adj Close', name)]\n",
    "    open = value[('Open', name)]\n",
    "    high = value[('High', name)]\n",
    "    low = value[('Low', name)]\n",
    "    close = value[('Close', name)]\n",
    "    volume = value[('Volume', name)]\n",
    "    print(\"=========\")"
   ]
  },
  {
   "cell_type": "code",
   "execution_count": null,
   "metadata": {},
   "outputs": [],
   "source": [
    "from decimal import Decimal\n",
    "conn = psycopg2.connect(host=\"dpg-csabsbi3esus739rc2m0-a.singapore-postgres.render.com\",database='render992',user=\"render992_user\",password='C3Cwqsvu4r5TnMUOqa3CqDY5f03efO0T')\n",
    "with conn:\n",
    "    all_data = taiwan.to_dict(orient='index')\n",
    "    for key,value in all_data.items():\n",
    "        date = key.date()\n",
    "        name = '^TWII'\n",
    "        adj_close = Decimal(value[('Adj Close', name)])\n",
    "        open = Decimal(value[('Open', name)])\n",
    "        high = Decimal(value[('High', name)])\n",
    "        low = Decimal(value[('Low', name)])\n",
    "        close = Decimal(value[('Close', name)])\n",
    "        volume = Decimal(value[('Volume', name)])\n",
    "        with conn.cursor() as cursor:\n",
    "            sql='''\n",
    "            INSERT INTO 股市(date,open,high,low,close,adj_close,volume,name) \n",
    "            values(%s,%s,%s,%s,%s,%s,%s,%s) ON CONFLICT DO NOTHING;\n",
    "            '''\n",
    "            cursor.execute(sql,[date,open,high,low,close,adj_close,volume,name])\n",
    "conn.close()\n"
   ]
  },
  {
   "cell_type": "code",
   "execution_count": 1,
   "metadata": {},
   "outputs": [],
   "source": [
    "#加入香港市場資料\n",
    "import psycopg2\n",
    "conn = psycopg2.connect(host=\"dpg-csabsbi3esus739rc2m0-a.singapore-postgres.render.com\",database='render992',user=\"render992_user\",password='C3Cwqsvu4r5TnMUOqa3CqDY5f03efO0T')\n",
    "\n",
    "with conn: #如果沒有raise exception 就自動執行commit, 沒有就自動執行rollback\n",
    "    with conn.cursor() as cursor: #自動關閉cursor\n",
    "      #建立市場資料表\n",
    "        sql = '''\n",
    "            INSERT INTO 市場 values (%s,%s)\n",
    "            ON CONFLICT DO NOTHING;              \n",
    "        '''\n",
    "        cursor.execute(sql,['^HSI','香港恒生'])\n",
    "conn.close()"
   ]
  },
  {
   "cell_type": "code",
   "execution_count": 5,
   "metadata": {},
   "outputs": [
    {
     "name": "stderr",
     "output_type": "stream",
     "text": [
      "[*********************100%***********************]  1 of 1 completed\n"
     ]
    }
   ],
   "source": [
    "import yfinance as yf\n",
    "taiwan = yf.download('^HSI')"
   ]
  },
  {
   "cell_type": "code",
   "execution_count": 6,
   "metadata": {},
   "outputs": [],
   "source": [
    "from decimal import Decimal\n",
    "conn = psycopg2.connect(host=\"dpg-csabsbi3esus739rc2m0-a.singapore-postgres.render.com\",database='render992',user=\"render992_user\",password='C3Cwqsvu4r5TnMUOqa3CqDY5f03efO0T')\n",
    "with conn:\n",
    "    all_data = taiwan.to_dict(orient='index')\n",
    "    for key,value in all_data.items():\n",
    "        date = key.date()\n",
    "        name = '^HSI'\n",
    "        adj_close = Decimal(value[('Adj Close', name)])\n",
    "        open = Decimal(value[('Open', name)])\n",
    "        high = Decimal(value[('High', name)])\n",
    "        low = Decimal(value[('Low', name)])\n",
    "        close = Decimal(value[('Close', name)])\n",
    "        volume = Decimal(value[('Volume', name)])\n",
    "        with conn.cursor() as cursor:\n",
    "            sql='''\n",
    "            INSERT INTO 股市(date,open,high,low,close,adj_close,volume,name) \n",
    "            values(%s,%s,%s,%s,%s,%s,%s,%s) ;\n",
    "            '''\n",
    "            cursor.execute(sql,[date,open,high,low,close,adj_close,volume,name])"
   ]
  }
 ],
 "metadata": {
  "kernelspec": {
   "display_name": "myenv",
   "language": "python",
   "name": "python3"
  },
  "language_info": {
   "codemirror_mode": {
    "name": "ipython",
    "version": 3
   },
   "file_extension": ".py",
   "mimetype": "text/x-python",
   "name": "python",
   "nbconvert_exporter": "python",
   "pygments_lexer": "ipython3",
   "version": "3.10.15"
  }
 },
 "nbformat": 4,
 "nbformat_minor": 2
}
