{
 "cells": [
  {
   "cell_type": "code",
   "execution_count": 1,
   "metadata": {},
   "outputs": [],
   "source": [
    "import psycopg2\n",
    "\n",
    "conn = psycopg2.connect(host=\"dpg-csabsbi3esus739rc2m0-a.singapore-postgres.render.com\",database='render992',user=\"render992_user\",password='C3Cwqsvu4r5TnMUOqa3CqDY5f03efO0T')"
   ]
  },
  {
   "cell_type": "code",
   "execution_count": 2,
   "metadata": {},
   "outputs": [
    {
     "data": {
      "text/plain": [
       "[]"
      ]
     },
     "execution_count": 2,
     "metadata": {},
     "output_type": "execute_result"
    }
   ],
   "source": [
    "conn = psycopg2.connect(host=\"dpg-csabsbi3esus739rc2m0-a.singapore-postgres.render.com\",database='render992',user=\"render992_user\",password='C3Cwqsvu4r5TnMUOqa3CqDY5f03efO0T')\n",
    "with conn:\n",
    "    with conn.cursor() as cursor:\n",
    "        sql = '''\n",
    "        SELECT date,adj_close,volume,股市.name,country\n",
    "        FROM 股市 JOIN 市場 ON 股市.name = 市場.name\n",
    "        WHERE 市場.country = %s\n",
    "        '''\n",
    "        cursor.execute(sql,['台灣'])\n",
    "        all_data = cursor.fetchall()\n",
    "\n",
    "\n",
    "conn.close()\n",
    "all_data"
   ]
  },
  {
   "cell_type": "code",
   "execution_count": 3,
   "metadata": {},
   "outputs": [
    {
     "data": {
      "text/html": [
       "<div>\n",
       "<style scoped>\n",
       "    .dataframe tbody tr th:only-of-type {\n",
       "        vertical-align: middle;\n",
       "    }\n",
       "\n",
       "    .dataframe tbody tr th {\n",
       "        vertical-align: top;\n",
       "    }\n",
       "\n",
       "    .dataframe thead th {\n",
       "        text-align: right;\n",
       "    }\n",
       "</style>\n",
       "<table border=\"1\" class=\"dataframe\">\n",
       "  <thead>\n",
       "    <tr style=\"text-align: right;\">\n",
       "      <th></th>\n",
       "      <th>日期</th>\n",
       "      <th>收盤</th>\n",
       "      <th>成交量</th>\n",
       "      <th>代號</th>\n",
       "      <th>國家</th>\n",
       "    </tr>\n",
       "  </thead>\n",
       "  <tbody>\n",
       "  </tbody>\n",
       "</table>\n",
       "</div>"
      ],
      "text/plain": [
       "Empty DataFrame\n",
       "Columns: [日期, 收盤, 成交量, 代號, 國家]\n",
       "Index: []"
      ]
     },
     "execution_count": 3,
     "metadata": {},
     "output_type": "execute_result"
    }
   ],
   "source": [
    "import pandas as pd\n",
    "\n",
    "dataFrame = pd.DataFrame(all_data,columns=['日期','收盤','成交量','代號','國家'])\n",
    "dataFrame"
   ]
  },
  {
   "cell_type": "code",
   "execution_count": 4,
   "metadata": {},
   "outputs": [
    {
     "ename": "NameError",
     "evalue": "name 'os' is not defined",
     "output_type": "error",
     "traceback": [
      "\u001b[1;31m---------------------------------------------------------------------------\u001b[0m",
      "\u001b[1;31mNameError\u001b[0m                                 Traceback (most recent call last)",
      "Cell \u001b[1;32mIn[4], line 2\u001b[0m\n\u001b[0;32m      1\u001b[0m \u001b[38;5;66;03m#使用IN的語法\u001b[39;00m\n\u001b[1;32m----> 2\u001b[0m conn \u001b[38;5;241m=\u001b[39m psycopg2\u001b[38;5;241m.\u001b[39mconnect(host\u001b[38;5;241m=\u001b[39m\u001b[38;5;124m\"\u001b[39m\u001b[38;5;124mlocalhost\u001b[39m\u001b[38;5;124m\"\u001b[39m,database\u001b[38;5;241m=\u001b[39m\u001b[38;5;124m'\u001b[39m\u001b[38;5;124mstock_market\u001b[39m\u001b[38;5;124m'\u001b[39m,user\u001b[38;5;241m=\u001b[39m\u001b[43mos\u001b[49m\u001b[38;5;241m.\u001b[39menviron[\u001b[38;5;124m\"\u001b[39m\u001b[38;5;124mPOSTGRES_USER\u001b[39m\u001b[38;5;124m\"\u001b[39m],password\u001b[38;5;241m=\u001b[39mos\u001b[38;5;241m.\u001b[39menviron[\u001b[38;5;124m\"\u001b[39m\u001b[38;5;124mPOSTGRES_PASSWORD\u001b[39m\u001b[38;5;124m\"\u001b[39m])\n\u001b[0;32m      3\u001b[0m \u001b[38;5;28;01mwith\u001b[39;00m conn:\n\u001b[0;32m      4\u001b[0m     \u001b[38;5;28;01mwith\u001b[39;00m conn\u001b[38;5;241m.\u001b[39mcursor() \u001b[38;5;28;01mas\u001b[39;00m cursor:\n",
      "\u001b[1;31mNameError\u001b[0m: name 'os' is not defined"
     ]
    }
   ],
   "source": [
    "#使用IN的語法\n",
    "conn = psycopg2.connect(host=\"localhost\",database='stock_market',user=os.environ[\"POSTGRES_USER\"],password=os.environ[\"POSTGRES_PASSWORD\"])\n",
    "with conn:\n",
    "    with conn.cursor() as cursor:\n",
    "        sql = '''\n",
    "        SELECT date,adj_close,volume,股市.name,country\n",
    "        FROM 股市 JOIN 市場 ON 股市.name = 市場.name\n",
    "        WHERE 市場.country IN %s\n",
    "        '''\n",
    "        cursor.execute(sql,(('台灣',),)) #tuple內有tuple\n",
    "        all_data = cursor.fetchall()\n",
    "\n",
    "conn.close()\n",
    "all_data"
   ]
  },
  {
   "cell_type": "code",
   "execution_count": 5,
   "metadata": {},
   "outputs": [
    {
     "ename": "NameError",
     "evalue": "name 'os' is not defined",
     "output_type": "error",
     "traceback": [
      "\u001b[1;31m---------------------------------------------------------------------------\u001b[0m",
      "\u001b[1;31mNameError\u001b[0m                                 Traceback (most recent call last)",
      "Cell \u001b[1;32mIn[5], line 3\u001b[0m\n\u001b[0;32m      1\u001b[0m \u001b[38;5;66;03m#使用IN的語法和一段時間\u001b[39;00m\n\u001b[0;32m      2\u001b[0m \u001b[38;5;28;01mfrom\u001b[39;00m \u001b[38;5;21;01mdatetime\u001b[39;00m \u001b[38;5;28;01mimport\u001b[39;00m date\n\u001b[1;32m----> 3\u001b[0m conn \u001b[38;5;241m=\u001b[39m psycopg2\u001b[38;5;241m.\u001b[39mconnect(host\u001b[38;5;241m=\u001b[39m\u001b[38;5;124m\"\u001b[39m\u001b[38;5;124mlocalhost\u001b[39m\u001b[38;5;124m\"\u001b[39m,database\u001b[38;5;241m=\u001b[39m\u001b[38;5;124m'\u001b[39m\u001b[38;5;124mstock_market\u001b[39m\u001b[38;5;124m'\u001b[39m,user\u001b[38;5;241m=\u001b[39m\u001b[43mos\u001b[49m\u001b[38;5;241m.\u001b[39menviron[\u001b[38;5;124m\"\u001b[39m\u001b[38;5;124mPOSTGRES_USER\u001b[39m\u001b[38;5;124m\"\u001b[39m],password\u001b[38;5;241m=\u001b[39mos\u001b[38;5;241m.\u001b[39menviron[\u001b[38;5;124m\"\u001b[39m\u001b[38;5;124mPOSTGRES_PASSWORD\u001b[39m\u001b[38;5;124m\"\u001b[39m])\n\u001b[0;32m      4\u001b[0m \u001b[38;5;28;01mwith\u001b[39;00m conn:\n\u001b[0;32m      5\u001b[0m     \u001b[38;5;28;01mwith\u001b[39;00m conn\u001b[38;5;241m.\u001b[39mcursor() \u001b[38;5;28;01mas\u001b[39;00m cursor:\n",
      "\u001b[1;31mNameError\u001b[0m: name 'os' is not defined"
     ]
    }
   ],
   "source": [
    "#使用IN的語法和一段時間\n",
    "from datetime import date\n",
    "conn = psycopg2.connect(host=\"localhost\",database='stock_market',user=os.environ[\"POSTGRES_USER\"],password=os.environ[\"POSTGRES_PASSWORD\"])\n",
    "with conn:\n",
    "    with conn.cursor() as cursor:\n",
    "        sql = '''\n",
    "        SELECT date,adj_close,volume,股市.name,country\n",
    "        FROM 股市 JOIN 市場 ON 股市.name = 市場.name\n",
    "        WHERE 市場.country IN %s AND (股市.date BETWEEN %s AND %s)\n",
    "        '''\n",
    "        cursor.execute(sql,(('台灣',),date(2024,1,1),date(2024,12,31))) \n",
    "        all_data = cursor.fetchall()\n",
    "\n",
    "conn.close()\n",
    "all_data"
   ]
  }
 ],
 "metadata": {
  "kernelspec": {
   "display_name": "chihlee",
   "language": "python",
   "name": "python3"
  },
  "language_info": {
   "codemirror_mode": {
    "name": "ipython",
    "version": 3
   },
   "file_extension": ".py",
   "mimetype": "text/x-python",
   "name": "python",
   "nbconvert_exporter": "python",
   "pygments_lexer": "ipython3",
   "version": "3.10.15"
  }
 },
 "nbformat": 4,
 "nbformat_minor": 2
}
