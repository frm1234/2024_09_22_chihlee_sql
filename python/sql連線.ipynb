{
 "cells": [
  {
   "cell_type": "code",
   "execution_count": 3,
   "metadata": {},
   "outputs": [
    {
     "name": "stdout",
     "output_type": "stream",
     "text": [
      "hello\n"
     ]
    },
    {
     "data": {
      "text/plain": [
       "2"
      ]
     },
     "execution_count": 3,
     "metadata": {},
     "output_type": "execute_result"
    }
   ],
   "source": [
    "print('hello')\n",
    "1+1\n"
   ]
  },
  {
   "cell_type": "code",
   "execution_count": 13,
   "metadata": {},
   "outputs": [
    {
     "name": "stdout",
     "output_type": "stream",
     "text": [
      "('PostgreSQL 16.3 (Debian 16.3-1.pgdg120+1) on x86_64-pc-linux-gnu, compiled by gcc (Debian 12.2.0-14) 12.2.0, 64-bit',)\n"
     ]
    }
   ],
   "source": [
    "import psycopg2\n",
    "#connection = psycopg2.connect(host='192.168.0.252',database='mydatabase_a31',user='a31',password='raspberry')\n",
    "connection = psycopg2.connect(host='dpg-crnslqo8fa8c738kcrcg-a.singapore-postgres.render.com',database='render992',user='render_99_user',password='Qkyrp0m88sgKvtOMEXb2uBFoDcRSi08i')\n",
    "cursor = connection.cursor()\n",
    "cursor.execute(\"SELECT version();\")  #postgresql 版本\n",
    "db_version = cursor.fetchone()\n",
    "print(db_version)\n",
    "cursor.close()\n",
    "connection.close()"
   ]
  },
  {
   "cell_type": "code",
   "execution_count": 6,
   "metadata": {},
   "outputs": [
    {
     "name": "stdout",
     "output_type": "stream",
     "text": [
      "Collecting psycopg2-binary (from -r requirements.txt (line 1))\n",
      "  Downloading psycopg2_binary-2.9.10-cp310-cp310-win_amd64.whl.metadata (5.0 kB)\n",
      "Downloading psycopg2_binary-2.9.10-cp310-cp310-win_amd64.whl (1.2 MB)\n",
      "   ---------------------------------------- 0.0/1.2 MB ? eta -:--:--\n",
      "   --------------------------- ------------ 0.8/1.2 MB 5.6 MB/s eta 0:00:01\n",
      "   ---------------------------------------- 1.2/1.2 MB 6.4 MB/s eta 0:00:00\n",
      "Installing collected packages: psycopg2-binary\n",
      "Successfully installed psycopg2-binary-2.9.10\n"
     ]
    }
   ],
   "source": [
    "##安裝所需套件\n",
    "!pip install -r requirements.txt"
   ]
  },
  {
   "cell_type": "code",
   "execution_count": 7,
   "metadata": {},
   "outputs": [
    {
     "data": {
      "text/plain": [
       "psycopg2.extensions.connection"
      ]
     },
     "execution_count": 7,
     "metadata": {},
     "output_type": "execute_result"
    }
   ],
   "source": [
    "# Connect to your postgres DB\n",
    "import psycopg2\n",
    "conn = psycopg2.connect(\n",
    "    database=\"render992\",\n",
    "    user=\"render992_user\",\n",
    "    password=\"C3Cwqsvu4r5TnMUOqa3CqDY5f03efO0T\",\n",
    "    host=\"dpg-csabsbi3esus739rc2m0-a.singapore-postgres.render.com\",  # 通常是 '127.0.0.1' 或 'localhost'\n",
    "    port=\"5432\")\n",
    "\n",
    "type(conn)"
   ]
  },
  {
   "cell_type": "code",
   "execution_count": 8,
   "metadata": {},
   "outputs": [
    {
     "data": {
      "text/plain": [
       "psycopg2.extensions.cursor"
      ]
     },
     "execution_count": 8,
     "metadata": {},
     "output_type": "execute_result"
    }
   ],
   "source": [
    "cur = conn.cursor()\n",
    "type(cur)"
   ]
  },
  {
   "cell_type": "code",
   "execution_count": 9,
   "metadata": {},
   "outputs": [],
   "source": [
    "\n",
    "cur.execute(\"SELECT * FROM actor;\")"
   ]
  },
  {
   "cell_type": "code",
   "execution_count": 10,
   "metadata": {},
   "outputs": [
    {
     "data": {
      "text/plain": [
       "list"
      ]
     },
     "execution_count": 10,
     "metadata": {},
     "output_type": "execute_result"
    }
   ],
   "source": [
    "rows = cur.fetchall()\n",
    "type(rows)"
   ]
  },
  {
   "cell_type": "code",
   "execution_count": 14,
   "metadata": {},
   "outputs": [
    {
     "name": "stdout",
     "output_type": "stream",
     "text": [
      "(1, 'Penelope', 'Guiness', datetime.datetime(2013, 5, 26, 14, 47, 57, 620000))\n",
      "(2, 'Nick', 'Wahlberg', datetime.datetime(2013, 5, 26, 14, 47, 57, 620000))\n",
      "(3, 'Ed', 'Chase', datetime.datetime(2013, 5, 26, 14, 47, 57, 620000))\n",
      "(4, 'Jennifer', 'Davis', datetime.datetime(2013, 5, 26, 14, 47, 57, 620000))\n",
      "(5, 'Johnny', 'Lollobrigida', datetime.datetime(2013, 5, 26, 14, 47, 57, 620000))\n",
      "(6, 'Bette', 'Nicholson', datetime.datetime(2013, 5, 26, 14, 47, 57, 620000))\n",
      "(7, 'Grace', 'Mostel', datetime.datetime(2013, 5, 26, 14, 47, 57, 620000))\n",
      "(8, 'Matthew', 'Johansson', datetime.datetime(2013, 5, 26, 14, 47, 57, 620000))\n",
      "(9, 'Joe', 'Swank', datetime.datetime(2013, 5, 26, 14, 47, 57, 620000))\n",
      "(10, 'Christian', 'Gable', datetime.datetime(2013, 5, 26, 14, 47, 57, 620000))\n",
      "(11, 'Zero', 'Cage', datetime.datetime(2013, 5, 26, 14, 47, 57, 620000))\n",
      "(12, 'Karl', 'Berry', datetime.datetime(2013, 5, 26, 14, 47, 57, 620000))\n",
      "(13, 'Uma', 'Wood', datetime.datetime(2013, 5, 26, 14, 47, 57, 620000))\n",
      "(14, 'Vivien', 'Bergen', datetime.datetime(2013, 5, 26, 14, 47, 57, 620000))\n",
      "(15, 'Cuba', 'Olivier', datetime.datetime(2013, 5, 26, 14, 47, 57, 620000))\n",
      "(16, 'Fred', 'Costner', datetime.datetime(2013, 5, 26, 14, 47, 57, 620000))\n",
      "(17, 'Helen', 'Voight', datetime.datetime(2013, 5, 26, 14, 47, 57, 620000))\n",
      "(18, 'Dan', 'Torn', datetime.datetime(2013, 5, 26, 14, 47, 57, 620000))\n",
      "(19, 'Bob', 'Fawcett', datetime.datetime(2013, 5, 26, 14, 47, 57, 620000))\n",
      "(20, 'Lucille', 'Tracy', datetime.datetime(2013, 5, 26, 14, 47, 57, 620000))\n",
      "(21, 'Kirsten', 'Paltrow', datetime.datetime(2013, 5, 26, 14, 47, 57, 620000))\n",
      "(22, 'Elvis', 'Marx', datetime.datetime(2013, 5, 26, 14, 47, 57, 620000))\n",
      "(23, 'Sandra', 'Kilmer', datetime.datetime(2013, 5, 26, 14, 47, 57, 620000))\n",
      "(24, 'Cameron', 'Streep', datetime.datetime(2013, 5, 26, 14, 47, 57, 620000))\n",
      "(25, 'Kevin', 'Bloom', datetime.datetime(2013, 5, 26, 14, 47, 57, 620000))\n",
      "(26, 'Rip', 'Crawford', datetime.datetime(2013, 5, 26, 14, 47, 57, 620000))\n",
      "(27, 'Julia', 'Mcqueen', datetime.datetime(2013, 5, 26, 14, 47, 57, 620000))\n",
      "(28, 'Woody', 'Hoffman', datetime.datetime(2013, 5, 26, 14, 47, 57, 620000))\n",
      "(29, 'Alec', 'Wayne', datetime.datetime(2013, 5, 26, 14, 47, 57, 620000))\n",
      "(30, 'Sandra', 'Peck', datetime.datetime(2013, 5, 26, 14, 47, 57, 620000))\n",
      "(31, 'Sissy', 'Sobieski', datetime.datetime(2013, 5, 26, 14, 47, 57, 620000))\n",
      "(32, 'Tim', 'Hackman', datetime.datetime(2013, 5, 26, 14, 47, 57, 620000))\n",
      "(33, 'Milla', 'Peck', datetime.datetime(2013, 5, 26, 14, 47, 57, 620000))\n",
      "(34, 'Audrey', 'Olivier', datetime.datetime(2013, 5, 26, 14, 47, 57, 620000))\n",
      "(35, 'Judy', 'Dean', datetime.datetime(2013, 5, 26, 14, 47, 57, 620000))\n",
      "(36, 'Burt', 'Dukakis', datetime.datetime(2013, 5, 26, 14, 47, 57, 620000))\n",
      "(37, 'Val', 'Bolger', datetime.datetime(2013, 5, 26, 14, 47, 57, 620000))\n",
      "(38, 'Tom', 'Mckellen', datetime.datetime(2013, 5, 26, 14, 47, 57, 620000))\n",
      "(39, 'Goldie', 'Brody', datetime.datetime(2013, 5, 26, 14, 47, 57, 620000))\n",
      "(40, 'Johnny', 'Cage', datetime.datetime(2013, 5, 26, 14, 47, 57, 620000))\n",
      "(41, 'Jodie', 'Degeneres', datetime.datetime(2013, 5, 26, 14, 47, 57, 620000))\n",
      "(42, 'Tom', 'Miranda', datetime.datetime(2013, 5, 26, 14, 47, 57, 620000))\n",
      "(43, 'Kirk', 'Jovovich', datetime.datetime(2013, 5, 26, 14, 47, 57, 620000))\n",
      "(44, 'Nick', 'Stallone', datetime.datetime(2013, 5, 26, 14, 47, 57, 620000))\n",
      "(45, 'Reese', 'Kilmer', datetime.datetime(2013, 5, 26, 14, 47, 57, 620000))\n",
      "(46, 'Parker', 'Goldberg', datetime.datetime(2013, 5, 26, 14, 47, 57, 620000))\n",
      "(47, 'Julia', 'Barrymore', datetime.datetime(2013, 5, 26, 14, 47, 57, 620000))\n",
      "(48, 'Frances', 'Day-Lewis', datetime.datetime(2013, 5, 26, 14, 47, 57, 620000))\n",
      "(49, 'Anne', 'Cronyn', datetime.datetime(2013, 5, 26, 14, 47, 57, 620000))\n",
      "(50, 'Natalie', 'Hopkins', datetime.datetime(2013, 5, 26, 14, 47, 57, 620000))\n",
      "(51, 'Gary', 'Phoenix', datetime.datetime(2013, 5, 26, 14, 47, 57, 620000))\n",
      "(52, 'Carmen', 'Hunt', datetime.datetime(2013, 5, 26, 14, 47, 57, 620000))\n",
      "(53, 'Mena', 'Temple', datetime.datetime(2013, 5, 26, 14, 47, 57, 620000))\n",
      "(54, 'Penelope', 'Pinkett', datetime.datetime(2013, 5, 26, 14, 47, 57, 620000))\n",
      "(55, 'Fay', 'Kilmer', datetime.datetime(2013, 5, 26, 14, 47, 57, 620000))\n",
      "(56, 'Dan', 'Harris', datetime.datetime(2013, 5, 26, 14, 47, 57, 620000))\n",
      "(57, 'Jude', 'Cruise', datetime.datetime(2013, 5, 26, 14, 47, 57, 620000))\n",
      "(58, 'Christian', 'Akroyd', datetime.datetime(2013, 5, 26, 14, 47, 57, 620000))\n",
      "(59, 'Dustin', 'Tautou', datetime.datetime(2013, 5, 26, 14, 47, 57, 620000))\n",
      "(60, 'Henry', 'Berry', datetime.datetime(2013, 5, 26, 14, 47, 57, 620000))\n",
      "(61, 'Christian', 'Neeson', datetime.datetime(2013, 5, 26, 14, 47, 57, 620000))\n",
      "(62, 'Jayne', 'Neeson', datetime.datetime(2013, 5, 26, 14, 47, 57, 620000))\n",
      "(63, 'Cameron', 'Wray', datetime.datetime(2013, 5, 26, 14, 47, 57, 620000))\n",
      "(64, 'Ray', 'Johansson', datetime.datetime(2013, 5, 26, 14, 47, 57, 620000))\n",
      "(65, 'Angela', 'Hudson', datetime.datetime(2013, 5, 26, 14, 47, 57, 620000))\n",
      "(66, 'Mary', 'Tandy', datetime.datetime(2013, 5, 26, 14, 47, 57, 620000))\n",
      "(67, 'Jessica', 'Bailey', datetime.datetime(2013, 5, 26, 14, 47, 57, 620000))\n",
      "(68, 'Rip', 'Winslet', datetime.datetime(2013, 5, 26, 14, 47, 57, 620000))\n",
      "(69, 'Kenneth', 'Paltrow', datetime.datetime(2013, 5, 26, 14, 47, 57, 620000))\n",
      "(70, 'Michelle', 'Mcconaughey', datetime.datetime(2013, 5, 26, 14, 47, 57, 620000))\n",
      "(71, 'Adam', 'Grant', datetime.datetime(2013, 5, 26, 14, 47, 57, 620000))\n",
      "(72, 'Sean', 'Williams', datetime.datetime(2013, 5, 26, 14, 47, 57, 620000))\n",
      "(73, 'Gary', 'Penn', datetime.datetime(2013, 5, 26, 14, 47, 57, 620000))\n",
      "(74, 'Milla', 'Keitel', datetime.datetime(2013, 5, 26, 14, 47, 57, 620000))\n",
      "(75, 'Burt', 'Posey', datetime.datetime(2013, 5, 26, 14, 47, 57, 620000))\n",
      "(76, 'Angelina', 'Astaire', datetime.datetime(2013, 5, 26, 14, 47, 57, 620000))\n",
      "(77, 'Cary', 'Mcconaughey', datetime.datetime(2013, 5, 26, 14, 47, 57, 620000))\n",
      "(78, 'Groucho', 'Sinatra', datetime.datetime(2013, 5, 26, 14, 47, 57, 620000))\n",
      "(79, 'Mae', 'Hoffman', datetime.datetime(2013, 5, 26, 14, 47, 57, 620000))\n",
      "(80, 'Ralph', 'Cruz', datetime.datetime(2013, 5, 26, 14, 47, 57, 620000))\n",
      "(81, 'Scarlett', 'Damon', datetime.datetime(2013, 5, 26, 14, 47, 57, 620000))\n",
      "(82, 'Woody', 'Jolie', datetime.datetime(2013, 5, 26, 14, 47, 57, 620000))\n",
      "(83, 'Ben', 'Willis', datetime.datetime(2013, 5, 26, 14, 47, 57, 620000))\n",
      "(84, 'James', 'Pitt', datetime.datetime(2013, 5, 26, 14, 47, 57, 620000))\n",
      "(85, 'Minnie', 'Zellweger', datetime.datetime(2013, 5, 26, 14, 47, 57, 620000))\n",
      "(143, 'River', 'Dean', datetime.datetime(2013, 5, 26, 14, 47, 57, 620000))\n",
      "(86, 'Greg', 'Chaplin', datetime.datetime(2013, 5, 26, 14, 47, 57, 620000))\n",
      "(87, 'Spencer', 'Peck', datetime.datetime(2013, 5, 26, 14, 47, 57, 620000))\n",
      "(88, 'Kenneth', 'Pesci', datetime.datetime(2013, 5, 26, 14, 47, 57, 620000))\n",
      "(89, 'Charlize', 'Dench', datetime.datetime(2013, 5, 26, 14, 47, 57, 620000))\n",
      "(90, 'Sean', 'Guiness', datetime.datetime(2013, 5, 26, 14, 47, 57, 620000))\n",
      "(91, 'Christopher', 'Berry', datetime.datetime(2013, 5, 26, 14, 47, 57, 620000))\n",
      "(92, 'Kirsten', 'Akroyd', datetime.datetime(2013, 5, 26, 14, 47, 57, 620000))\n",
      "(93, 'Ellen', 'Presley', datetime.datetime(2013, 5, 26, 14, 47, 57, 620000))\n",
      "(94, 'Kenneth', 'Torn', datetime.datetime(2013, 5, 26, 14, 47, 57, 620000))\n",
      "(95, 'Daryl', 'Wahlberg', datetime.datetime(2013, 5, 26, 14, 47, 57, 620000))\n",
      "(96, 'Gene', 'Willis', datetime.datetime(2013, 5, 26, 14, 47, 57, 620000))\n",
      "(97, 'Meg', 'Hawke', datetime.datetime(2013, 5, 26, 14, 47, 57, 620000))\n",
      "(98, 'Chris', 'Bridges', datetime.datetime(2013, 5, 26, 14, 47, 57, 620000))\n",
      "(99, 'Jim', 'Mostel', datetime.datetime(2013, 5, 26, 14, 47, 57, 620000))\n",
      "(100, 'Spencer', 'Depp', datetime.datetime(2013, 5, 26, 14, 47, 57, 620000))\n",
      "(101, 'Susan', 'Davis', datetime.datetime(2013, 5, 26, 14, 47, 57, 620000))\n",
      "(102, 'Walter', 'Torn', datetime.datetime(2013, 5, 26, 14, 47, 57, 620000))\n",
      "(103, 'Matthew', 'Leigh', datetime.datetime(2013, 5, 26, 14, 47, 57, 620000))\n",
      "(104, 'Penelope', 'Cronyn', datetime.datetime(2013, 5, 26, 14, 47, 57, 620000))\n",
      "(105, 'Sidney', 'Crowe', datetime.datetime(2013, 5, 26, 14, 47, 57, 620000))\n",
      "(106, 'Groucho', 'Dunst', datetime.datetime(2013, 5, 26, 14, 47, 57, 620000))\n",
      "(107, 'Gina', 'Degeneres', datetime.datetime(2013, 5, 26, 14, 47, 57, 620000))\n",
      "(108, 'Warren', 'Nolte', datetime.datetime(2013, 5, 26, 14, 47, 57, 620000))\n",
      "(109, 'Sylvester', 'Dern', datetime.datetime(2013, 5, 26, 14, 47, 57, 620000))\n",
      "(110, 'Susan', 'Davis', datetime.datetime(2013, 5, 26, 14, 47, 57, 620000))\n",
      "(111, 'Cameron', 'Zellweger', datetime.datetime(2013, 5, 26, 14, 47, 57, 620000))\n",
      "(112, 'Russell', 'Bacall', datetime.datetime(2013, 5, 26, 14, 47, 57, 620000))\n",
      "(113, 'Morgan', 'Hopkins', datetime.datetime(2013, 5, 26, 14, 47, 57, 620000))\n",
      "(114, 'Morgan', 'Mcdormand', datetime.datetime(2013, 5, 26, 14, 47, 57, 620000))\n",
      "(115, 'Harrison', 'Bale', datetime.datetime(2013, 5, 26, 14, 47, 57, 620000))\n",
      "(116, 'Dan', 'Streep', datetime.datetime(2013, 5, 26, 14, 47, 57, 620000))\n",
      "(117, 'Renee', 'Tracy', datetime.datetime(2013, 5, 26, 14, 47, 57, 620000))\n",
      "(118, 'Cuba', 'Allen', datetime.datetime(2013, 5, 26, 14, 47, 57, 620000))\n",
      "(119, 'Warren', 'Jackman', datetime.datetime(2013, 5, 26, 14, 47, 57, 620000))\n",
      "(120, 'Penelope', 'Monroe', datetime.datetime(2013, 5, 26, 14, 47, 57, 620000))\n",
      "(121, 'Liza', 'Bergman', datetime.datetime(2013, 5, 26, 14, 47, 57, 620000))\n",
      "(122, 'Salma', 'Nolte', datetime.datetime(2013, 5, 26, 14, 47, 57, 620000))\n",
      "(123, 'Julianne', 'Dench', datetime.datetime(2013, 5, 26, 14, 47, 57, 620000))\n",
      "(124, 'Scarlett', 'Bening', datetime.datetime(2013, 5, 26, 14, 47, 57, 620000))\n",
      "(125, 'Albert', 'Nolte', datetime.datetime(2013, 5, 26, 14, 47, 57, 620000))\n",
      "(126, 'Frances', 'Tomei', datetime.datetime(2013, 5, 26, 14, 47, 57, 620000))\n",
      "(127, 'Kevin', 'Garland', datetime.datetime(2013, 5, 26, 14, 47, 57, 620000))\n",
      "(128, 'Cate', 'Mcqueen', datetime.datetime(2013, 5, 26, 14, 47, 57, 620000))\n",
      "(129, 'Daryl', 'Crawford', datetime.datetime(2013, 5, 26, 14, 47, 57, 620000))\n",
      "(130, 'Greta', 'Keitel', datetime.datetime(2013, 5, 26, 14, 47, 57, 620000))\n",
      "(131, 'Jane', 'Jackman', datetime.datetime(2013, 5, 26, 14, 47, 57, 620000))\n",
      "(132, 'Adam', 'Hopper', datetime.datetime(2013, 5, 26, 14, 47, 57, 620000))\n",
      "(133, 'Richard', 'Penn', datetime.datetime(2013, 5, 26, 14, 47, 57, 620000))\n",
      "(134, 'Gene', 'Hopkins', datetime.datetime(2013, 5, 26, 14, 47, 57, 620000))\n",
      "(135, 'Rita', 'Reynolds', datetime.datetime(2013, 5, 26, 14, 47, 57, 620000))\n",
      "(136, 'Ed', 'Mansfield', datetime.datetime(2013, 5, 26, 14, 47, 57, 620000))\n",
      "(137, 'Morgan', 'Williams', datetime.datetime(2013, 5, 26, 14, 47, 57, 620000))\n",
      "(138, 'Lucille', 'Dee', datetime.datetime(2013, 5, 26, 14, 47, 57, 620000))\n",
      "(139, 'Ewan', 'Gooding', datetime.datetime(2013, 5, 26, 14, 47, 57, 620000))\n",
      "(140, 'Whoopi', 'Hurt', datetime.datetime(2013, 5, 26, 14, 47, 57, 620000))\n",
      "(141, 'Cate', 'Harris', datetime.datetime(2013, 5, 26, 14, 47, 57, 620000))\n",
      "(142, 'Jada', 'Ryder', datetime.datetime(2013, 5, 26, 14, 47, 57, 620000))\n",
      "(144, 'Angela', 'Witherspoon', datetime.datetime(2013, 5, 26, 14, 47, 57, 620000))\n",
      "(145, 'Kim', 'Allen', datetime.datetime(2013, 5, 26, 14, 47, 57, 620000))\n",
      "(146, 'Albert', 'Johansson', datetime.datetime(2013, 5, 26, 14, 47, 57, 620000))\n",
      "(147, 'Fay', 'Winslet', datetime.datetime(2013, 5, 26, 14, 47, 57, 620000))\n",
      "(148, 'Emily', 'Dee', datetime.datetime(2013, 5, 26, 14, 47, 57, 620000))\n",
      "(149, 'Russell', 'Temple', datetime.datetime(2013, 5, 26, 14, 47, 57, 620000))\n",
      "(150, 'Jayne', 'Nolte', datetime.datetime(2013, 5, 26, 14, 47, 57, 620000))\n",
      "(151, 'Geoffrey', 'Heston', datetime.datetime(2013, 5, 26, 14, 47, 57, 620000))\n",
      "(152, 'Ben', 'Harris', datetime.datetime(2013, 5, 26, 14, 47, 57, 620000))\n",
      "(153, 'Minnie', 'Kilmer', datetime.datetime(2013, 5, 26, 14, 47, 57, 620000))\n",
      "(154, 'Meryl', 'Gibson', datetime.datetime(2013, 5, 26, 14, 47, 57, 620000))\n",
      "(155, 'Ian', 'Tandy', datetime.datetime(2013, 5, 26, 14, 47, 57, 620000))\n",
      "(156, 'Fay', 'Wood', datetime.datetime(2013, 5, 26, 14, 47, 57, 620000))\n",
      "(157, 'Greta', 'Malden', datetime.datetime(2013, 5, 26, 14, 47, 57, 620000))\n",
      "(158, 'Vivien', 'Basinger', datetime.datetime(2013, 5, 26, 14, 47, 57, 620000))\n",
      "(159, 'Laura', 'Brody', datetime.datetime(2013, 5, 26, 14, 47, 57, 620000))\n",
      "(160, 'Chris', 'Depp', datetime.datetime(2013, 5, 26, 14, 47, 57, 620000))\n",
      "(161, 'Harvey', 'Hope', datetime.datetime(2013, 5, 26, 14, 47, 57, 620000))\n",
      "(162, 'Oprah', 'Kilmer', datetime.datetime(2013, 5, 26, 14, 47, 57, 620000))\n",
      "(163, 'Christopher', 'West', datetime.datetime(2013, 5, 26, 14, 47, 57, 620000))\n",
      "(164, 'Humphrey', 'Willis', datetime.datetime(2013, 5, 26, 14, 47, 57, 620000))\n",
      "(165, 'Al', 'Garland', datetime.datetime(2013, 5, 26, 14, 47, 57, 620000))\n",
      "(166, 'Nick', 'Degeneres', datetime.datetime(2013, 5, 26, 14, 47, 57, 620000))\n",
      "(167, 'Laurence', 'Bullock', datetime.datetime(2013, 5, 26, 14, 47, 57, 620000))\n",
      "(168, 'Will', 'Wilson', datetime.datetime(2013, 5, 26, 14, 47, 57, 620000))\n",
      "(169, 'Kenneth', 'Hoffman', datetime.datetime(2013, 5, 26, 14, 47, 57, 620000))\n",
      "(170, 'Mena', 'Hopper', datetime.datetime(2013, 5, 26, 14, 47, 57, 620000))\n",
      "(171, 'Olympia', 'Pfeiffer', datetime.datetime(2013, 5, 26, 14, 47, 57, 620000))\n",
      "(172, 'Groucho', 'Williams', datetime.datetime(2013, 5, 26, 14, 47, 57, 620000))\n",
      "(173, 'Alan', 'Dreyfuss', datetime.datetime(2013, 5, 26, 14, 47, 57, 620000))\n",
      "(174, 'Michael', 'Bening', datetime.datetime(2013, 5, 26, 14, 47, 57, 620000))\n",
      "(175, 'William', 'Hackman', datetime.datetime(2013, 5, 26, 14, 47, 57, 620000))\n",
      "(176, 'Jon', 'Chase', datetime.datetime(2013, 5, 26, 14, 47, 57, 620000))\n",
      "(177, 'Gene', 'Mckellen', datetime.datetime(2013, 5, 26, 14, 47, 57, 620000))\n",
      "(178, 'Lisa', 'Monroe', datetime.datetime(2013, 5, 26, 14, 47, 57, 620000))\n",
      "(179, 'Ed', 'Guiness', datetime.datetime(2013, 5, 26, 14, 47, 57, 620000))\n",
      "(180, 'Jeff', 'Silverstone', datetime.datetime(2013, 5, 26, 14, 47, 57, 620000))\n",
      "(181, 'Matthew', 'Carrey', datetime.datetime(2013, 5, 26, 14, 47, 57, 620000))\n",
      "(182, 'Debbie', 'Akroyd', datetime.datetime(2013, 5, 26, 14, 47, 57, 620000))\n",
      "(183, 'Russell', 'Close', datetime.datetime(2013, 5, 26, 14, 47, 57, 620000))\n",
      "(184, 'Humphrey', 'Garland', datetime.datetime(2013, 5, 26, 14, 47, 57, 620000))\n",
      "(185, 'Michael', 'Bolger', datetime.datetime(2013, 5, 26, 14, 47, 57, 620000))\n",
      "(186, 'Julia', 'Zellweger', datetime.datetime(2013, 5, 26, 14, 47, 57, 620000))\n",
      "(187, 'Renee', 'Ball', datetime.datetime(2013, 5, 26, 14, 47, 57, 620000))\n",
      "(188, 'Rock', 'Dukakis', datetime.datetime(2013, 5, 26, 14, 47, 57, 620000))\n",
      "(189, 'Cuba', 'Birch', datetime.datetime(2013, 5, 26, 14, 47, 57, 620000))\n",
      "(190, 'Audrey', 'Bailey', datetime.datetime(2013, 5, 26, 14, 47, 57, 620000))\n",
      "(191, 'Gregory', 'Gooding', datetime.datetime(2013, 5, 26, 14, 47, 57, 620000))\n",
      "(192, 'John', 'Suvari', datetime.datetime(2013, 5, 26, 14, 47, 57, 620000))\n",
      "(193, 'Burt', 'Temple', datetime.datetime(2013, 5, 26, 14, 47, 57, 620000))\n",
      "(194, 'Meryl', 'Allen', datetime.datetime(2013, 5, 26, 14, 47, 57, 620000))\n",
      "(195, 'Jayne', 'Silverstone', datetime.datetime(2013, 5, 26, 14, 47, 57, 620000))\n",
      "(196, 'Bela', 'Walken', datetime.datetime(2013, 5, 26, 14, 47, 57, 620000))\n",
      "(197, 'Reese', 'West', datetime.datetime(2013, 5, 26, 14, 47, 57, 620000))\n",
      "(198, 'Mary', 'Keitel', datetime.datetime(2013, 5, 26, 14, 47, 57, 620000))\n",
      "(199, 'Julia', 'Fawcett', datetime.datetime(2013, 5, 26, 14, 47, 57, 620000))\n",
      "(200, 'Thora', 'Temple', datetime.datetime(2013, 5, 26, 14, 47, 57, 620000))\n"
     ]
    }
   ],
   "source": [
    "for row in rows:\n",
    "    print(row)"
   ]
  },
  {
   "cell_type": "code",
   "execution_count": 10,
   "metadata": {},
   "outputs": [],
   "source": [
    "##釋放連線資源\n",
    "cur.close()\n",
    "conn.close()\n"
   ]
  }
 ],
 "metadata": {
  "kernelspec": {
   "display_name": "chihlee",
   "language": "python",
   "name": "python3"
  },
  "language_info": {
   "codemirror_mode": {
    "name": "ipython",
    "version": 3
   },
   "file_extension": ".py",
   "mimetype": "text/x-python",
   "name": "python",
   "nbconvert_exporter": "python",
   "pygments_lexer": "ipython3",
   "version": "3.10.15"
  }
 },
 "nbformat": 4,
 "nbformat_minor": 2
}
