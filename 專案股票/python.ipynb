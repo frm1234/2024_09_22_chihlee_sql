{
 "cells": [
  {
   "cell_type": "code",
   "execution_count": 13,
   "metadata": {},
   "outputs": [],
   "source": [
    "import psycopg2 as ps\n",
    "\n",
    "conn = ps.connect(host='dpg-csabsbi3esus739rc2m0-a.singapore-postgres.render.com',\n",
    "                  database='render992',\n",
    "                  user='render992_user',\n",
    "                  password='C3Cwqsvu4r5TnMUOqa3CqDY5f03efO0T')"
   ]
  },
  {
   "cell_type": "code",
   "execution_count": 15,
   "metadata": {},
   "outputs": [],
   "source": [
    "sql ='''create table if not exists 市場(\n",
    "\tname varchar(20),\n",
    "\tcountry varchar(20),\n",
    "\tprimary key(name)\n",
    "\t);\n",
    "'''\n",
    "cursor = conn.cursor()\n",
    "cursor.execute(sql)\n",
    "\n",
    "sql1 = '''CREATE TABLE IF NOT EXISTS 股市(\n",
    "            stock_id SERIAL,\n",
    "            date DATE,\n",
    "            open NUMERIC(7,6),\n",
    "            high NUMERIC(7,6),\n",
    "            low NUMERIC(7,6),\n",
    "            close NUMERIC(7,6),\n",
    "            adj_close NUMERIC(7,6),\n",
    "            volume BIGINT DEFAULT 0,\n",
    "            name VARCHAR(20),\n",
    "            PRIMARY KEY(stock_id),\n",
    "            FOREIGN KEY(name) REFERENCES 市場(name) \n",
    "            ON DELETE NO ACTION\n",
    "            ON UPDATE CASCADE\n",
    "            );'''\n",
    "cursor.execute(sql1)\n",
    "conn.commit()\n",
    "\n",
    "cursor.close()\n",
    "conn.close()"
   ]
  }
 ],
 "metadata": {
  "kernelspec": {
   "display_name": "myenv",
   "language": "python",
   "name": "python3"
  },
  "language_info": {
   "codemirror_mode": {
    "name": "ipython",
    "version": 3
   },
   "file_extension": ".py",
   "mimetype": "text/x-python",
   "name": "python",
   "nbconvert_exporter": "python",
   "pygments_lexer": "ipython3",
   "version": "3.10.15"
  }
 },
 "nbformat": 4,
 "nbformat_minor": 2
}
